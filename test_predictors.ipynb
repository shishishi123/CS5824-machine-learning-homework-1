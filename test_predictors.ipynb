{
 "cells": [
  {
   "cell_type": "code",
   "execution_count": null,
   "metadata": {},
   "outputs": [],
   "source": [
    "%load_ext autoreload\n",
    "%autoreload 2"
   ]
  },
  {
   "cell_type": "code",
   "execution_count": null,
   "metadata": {},
   "outputs": [
    {
     "name": "stdout",
     "output_type": "stream",
     "text": [
      "Found pickle file. Loading 20news data from file.\nDoing so should be faster than loading from raw text, but if the file is corrupted, delete it and this script will automatically load from the raw text next time it is run.\nFinished loading in 0.02 seconds.\n  (0, 0)\tTrue\n  (1, 0)\tTrue\n  (2, 0)\tTrue\n  (3, 0)\tTrue\n  (4, 0)\tTrue\n  (5, 0)\tTrue\n  (6, 0)\tTrue\n  (7, 0)\tTrue\n  (8, 0)\tTrue\n  (9, 0)\tTrue\n  (10, 0)\tTrue\n  (11, 0)\tTrue\n  (12, 0)\tTrue\n  (13, 0)\tTrue\n  (14, 0)\tTrue\n  (15, 0)\tTrue\n  (16, 0)\tTrue\n  (17, 0)\tTrue\n  (18, 0)\tTrue\n  (19, 0)\tTrue\n  (20, 0)\tTrue\n  (21, 0)\tTrue\n  (22, 0)\tTrue\n  (23, 0)\tTrue\n  (24, 0)\tTrue\n  :\t:\n  (8041, 11268)\tTrue\n  (8265, 11268)\tTrue\n  (8365, 11268)\tTrue\n  (8999, 11268)\tTrue\n  (9848, 11268)\tTrue\n  (10029, 11268)\tTrue\n  (12025, 11268)\tTrue\n  (12273, 11268)\tTrue\n  (13057, 11268)\tTrue\n  (13873, 11268)\tTrue\n  (14311, 11268)\tTrue\n  (14512, 11268)\tTrue\n  (15506, 11268)\tTrue\n  (19589, 11268)\tTrue\n  (22151, 11268)\tTrue\n  (25322, 11268)\tTrue\n  (28111, 11268)\tTrue\n  (28255, 11268)\tTrue\n  (29607, 11268)\tTrue\n  (30180, 11268)\tTrue\n  (47386, 11268)\tTrue\n  (48338, 11268)\tTrue\n  (48918, 11268)\tTrue\n  (51543, 11268)\tTrue\n  (53957, 11268)\tTrue\n[ 0.  0.  0. ... 19. 19. 19.]\n"
     ]
    }
   ],
   "source": [
    "import numpy as np\n",
    "from decision_tree import calculate_information_gain, decision_tree_train, decision_tree_predict\n",
    "from naive_bayes import naive_bayes_train, naive_bayes_predict\n",
    "from load_all_data import load_all_data"
   ]
  },
  {
   "cell_type": "code",
   "execution_count": null,
   "metadata": {},
   "outputs": [
    {
     "name": "stdout",
     "output_type": "stream",
     "text": [
      "Found pickle file. Loading 20news data from file.\nDoing so should be faster than loading from raw text, but if the file is corrupted, delete it and this script will automatically load from the raw text next time it is run.\nFinished loading in 0.02 seconds.\n"
     ]
    }
   ],
   "source": [
    "num_words, num_training, num_testing, train_data, test_data, train_labels, test_labels = load_all_data()"
   ]
  },
  {
   "cell_type": "code",
   "execution_count": null,
   "metadata": {},
   "outputs": [],
   "source": [
    "d = 5000 # maximum number of features"
   ]
  },
  {
   "cell_type": "code",
   "execution_count": null,
   "metadata": {},
   "outputs": [
    {
     "name": "stdout",
     "output_type": "stream",
     "text": [
      "[6.89207785e-03 5.72929455e-03 2.35420535e-02 ... 1.76640647e-12\n 1.76640647e-12 1.76640647e-12]\n"
     ]
    }
   ],
   "source": [
    "# Filter features by information gain\n",
    "\n",
    "gain = calculate_information_gain(train_data, train_labels)\n",
    "\n",
    "print(gain)\n",
    "\n",
    "# sort features by calculated information gain\n",
    "ranks = gain.argsort()[::-1]\n",
    "\n",
    "train_data = train_data[ranks[:d], :]\n",
    "test_data = test_data[ranks[:d], :]\n",
    "\n",
    "# convert training data to dense ndarray\n",
    "train_data = train_data.toarray()\n",
    "test_data = test_data.toarray()"
   ]
  },
  {
   "cell_type": "code",
   "execution_count": null,
   "metadata": {},
   "outputs": [
    {
     "ename": "IndexError",
     "evalue": "only integers, slices (`:`), ellipsis (`...`), numpy.newaxis (`None`) and integer or boolean arrays are valid indices",
     "traceback": [
      "\u001b[1;31m---------------------------------------------------------------------------\u001b[0m",
      "\u001b[1;31mIndexError\u001b[0m                                Traceback (most recent call last)",
      "\u001b[1;32m<ipython-input-10-4a0191d25d1b>\u001b[0m in \u001b[0;36m<module>\u001b[1;34m\u001b[0m\n\u001b[0;32m      3\u001b[0m \u001b[0mnb_params\u001b[0m \u001b[1;33m=\u001b[0m \u001b[1;33m{\u001b[0m \u001b[1;34m'alpha'\u001b[0m\u001b[1;33m:\u001b[0m \u001b[1;36m1.0\u001b[0m \u001b[1;33m}\u001b[0m\u001b[1;33m\u001b[0m\u001b[1;33m\u001b[0m\u001b[0m\n\u001b[0;32m      4\u001b[0m \u001b[1;33m\u001b[0m\u001b[0m\n\u001b[1;32m----> 5\u001b[1;33m \u001b[0mnb_model\u001b[0m \u001b[1;33m=\u001b[0m \u001b[0mnaive_bayes_train\u001b[0m\u001b[1;33m(\u001b[0m\u001b[0mtrain_data\u001b[0m\u001b[1;33m,\u001b[0m \u001b[0mtrain_labels\u001b[0m\u001b[1;33m,\u001b[0m \u001b[0mnb_params\u001b[0m\u001b[1;33m)\u001b[0m\u001b[1;33m\u001b[0m\u001b[1;33m\u001b[0m\u001b[0m\n\u001b[0m",
      "\u001b[1;32mD:\\git_repositories\\advanced_machinelearning\\ml19-hw1\\naive_bayes.py\u001b[0m in \u001b[0;36mnaive_bayes_train\u001b[1;34m(train_data, train_labels, params)\u001b[0m\n\u001b[0;32m     34\u001b[0m         \u001b[1;32mfor\u001b[0m \u001b[0mj\u001b[0m \u001b[1;32min\u001b[0m \u001b[0mrange\u001b[0m\u001b[1;33m(\u001b[0m\u001b[0mn\u001b[0m\u001b[1;33m)\u001b[0m\u001b[1;33m:\u001b[0m\u001b[1;33m\u001b[0m\u001b[1;33m\u001b[0m\u001b[0m\n\u001b[0;32m     35\u001b[0m             \u001b[0mindex\u001b[0m\u001b[1;33m=\u001b[0m\u001b[0mtrain_labels\u001b[0m\u001b[1;33m[\u001b[0m\u001b[0mj\u001b[0m\u001b[1;33m]\u001b[0m\u001b[1;33m\u001b[0m\u001b[1;33m\u001b[0m\u001b[0m\n\u001b[1;32m---> 36\u001b[1;33m             \u001b[1;32mif\u001b[0m\u001b[1;33m(\u001b[0m\u001b[0mtrain_data\u001b[0m\u001b[1;33m[\u001b[0m\u001b[0mi\u001b[0m\u001b[1;33m,\u001b[0m\u001b[0mj\u001b[0m\u001b[1;33m]\u001b[0m\u001b[1;33m)\u001b[0m\u001b[1;33m==\u001b[0m\u001b[1;32mTrue\u001b[0m\u001b[1;33m:\u001b[0m\u001b[1;33m\u001b[0m\u001b[1;33m\u001b[0m\u001b[0m\n\u001b[0m\u001b[0;32m     37\u001b[0m                 \u001b[0mnumber\u001b[0m\u001b[1;33m[\u001b[0m\u001b[0mindex\u001b[0m\u001b[1;33m,\u001b[0m\u001b[0mi\u001b[0m\u001b[1;33m,\u001b[0m\u001b[1;36m0\u001b[0m\u001b[1;33m]\u001b[0m\u001b[1;33m=\u001b[0m\u001b[0mnumber\u001b[0m\u001b[1;33m[\u001b[0m\u001b[0mindex\u001b[0m\u001b[1;33m,\u001b[0m\u001b[0mi\u001b[0m\u001b[1;33m,\u001b[0m\u001b[1;36m0\u001b[0m\u001b[1;33m]\u001b[0m\u001b[1;33m+\u001b[0m\u001b[1;36m1\u001b[0m\u001b[1;33m\u001b[0m\u001b[1;33m\u001b[0m\u001b[0m\n\u001b[0;32m     38\u001b[0m             \u001b[1;32melse\u001b[0m\u001b[1;33m:\u001b[0m\u001b[1;33m\u001b[0m\u001b[1;33m\u001b[0m\u001b[0m\n",
      "\u001b[1;31mIndexError\u001b[0m: only integers, slices (`:`), ellipsis (`...`), numpy.newaxis (`None`) and integer or boolean arrays are valid indices"
     ],
     "output_type": "error"
    }
   ],
   "source": [
    "# Try naive Bayes with hard-coded alpha value\n",
    "\n",
    "nb_params = { 'alpha': 1.0 }\n",
    "\n",
    "nb_model = naive_bayes_train(train_data, train_labels, nb_params)"
   ]
  },
  {
   "cell_type": "code",
   "execution_count": null,
   "metadata": {},
   "outputs": [],
   "source": [
    "# Compute training accuracy\n",
    "\n",
    "nb_train_predictions = naive_bayes_predict(train_data, nb_model)\n",
    "\n",
    "nb_train_accuracy = np.mean(nb_train_predictions == train_labels)\n",
    "\n",
    "print(\"Naive Bayes training accuracy: %f\" % nb_train_accuracy)"
   ]
  },
  {
   "cell_type": "code",
   "execution_count": 9,
   "metadata": {},
   "outputs": [
    {
     "ename": "NameError",
     "evalue": "name 'nb_model' is not defined",
     "traceback": [
      "\u001b[1;31m---------------------------------------------------------------------------\u001b[0m",
      "\u001b[1;31mNameError\u001b[0m                                 Traceback (most recent call last)",
      "\u001b[1;32m<ipython-input-9-50e01017583e>\u001b[0m in \u001b[0;36m<module>\u001b[1;34m\u001b[0m\n\u001b[0;32m      1\u001b[0m \u001b[1;31m# Compute testing accuracy\u001b[0m\u001b[1;33m\u001b[0m\u001b[1;33m\u001b[0m\u001b[1;33m\u001b[0m\u001b[0m\n\u001b[0;32m      2\u001b[0m \u001b[1;33m\u001b[0m\u001b[0m\n\u001b[1;32m----> 3\u001b[1;33m \u001b[0mnb_test_predictions\u001b[0m \u001b[1;33m=\u001b[0m \u001b[0mnaive_bayes_predict\u001b[0m\u001b[1;33m(\u001b[0m\u001b[0mtest_data\u001b[0m\u001b[1;33m,\u001b[0m \u001b[0mnb_model\u001b[0m\u001b[1;33m)\u001b[0m\u001b[1;33m\u001b[0m\u001b[1;33m\u001b[0m\u001b[0m\n\u001b[0m\u001b[0;32m      4\u001b[0m \u001b[1;33m\u001b[0m\u001b[0m\n\u001b[0;32m      5\u001b[0m \u001b[0mnb_test_accuracy\u001b[0m \u001b[1;33m=\u001b[0m \u001b[0mnp\u001b[0m\u001b[1;33m.\u001b[0m\u001b[0mmean\u001b[0m\u001b[1;33m(\u001b[0m\u001b[0mnb_test_predictions\u001b[0m \u001b[1;33m==\u001b[0m \u001b[0mtest_labels\u001b[0m\u001b[1;33m)\u001b[0m\u001b[1;33m\u001b[0m\u001b[1;33m\u001b[0m\u001b[0m\n",
      "\u001b[1;31mNameError\u001b[0m: name 'nb_model' is not defined"
     ],
     "output_type": "error"
    }
   ],
   "source": [
    "# Compute testing accuracy\n",
    "\n",
    "nb_test_predictions = naive_bayes_predict(test_data, nb_model)\n",
    "\n",
    "nb_test_accuracy = np.mean(nb_test_predictions == test_labels)\n",
    "\n",
    "print(\"Naive Bayes testing accuracy: %f\" % nb_test_accuracy)"
   ]
  },
  {
   "cell_type": "code",
   "execution_count": null,
   "metadata": {},
   "outputs": [],
   "source": [
    "# Try decision tree with hard-coded maximum depth\n",
    "\n",
    "dt_params = { 'max_depth': 16 }\n",
    "\n",
    "dt_model = decision_tree_train(train_data, train_labels, dt_params)"
   ]
  },
  {
   "cell_type": "code",
   "execution_count": null,
   "metadata": {},
   "outputs": [],
   "source": [
    "# Compute training accuracy\n",
    "\n",
    "dt_train_predictions = decision_tree_predict(train_data, dt_model)\n",
    "                                \n",
    "dt_train_accuracy = np.mean(dt_train_predictions == train_labels)\n",
    "\n",
    "print(\"Decision tree training accuracy: %f\" % dt_train_accuracy)"
   ]
  },
  {
   "cell_type": "code",
   "execution_count": null,
   "metadata": {},
   "outputs": [],
   "source": [
    "# Compute testing accuracy\n",
    "\n",
    "dt_test_predictions = decision_tree_predict(test_data, dt_model)\n",
    "                                \n",
    "dt_test_accuracy = np.mean(dt_test_predictions == test_labels)\n",
    "\n",
    "print(\"Decision tree testing accuracy: %f\" % dt_test_accuracy)"
   ]
  }
 ],
 "metadata": {
  "anaconda-cloud": {},
  "kernelspec": {
   "display_name": "Python 3",
   "language": "python",
   "name": "python3"
  },
  "language_info": {
   "codemirror_mode": {
    "name": "ipython",
    "version": 3
   },
   "file_extension": ".py",
   "mimetype": "text/x-python",
   "name": "python",
   "nbconvert_exporter": "python",
   "pygments_lexer": "ipython3",
   "version": "3.7.3"
  }
 },
 "nbformat": 4,
 "nbformat_minor": 1
}
